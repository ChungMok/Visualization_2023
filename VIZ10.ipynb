{
 "cells": [
  {
   "cell_type": "code",
   "execution_count": 1,
   "id": "8f457de4",
   "metadata": {},
   "outputs": [],
   "source": [
    "import matplotlib.pyplot as plt\n",
    "import numpy as np\n",
    "%matplotlib qt"
   ]
  },
  {
   "cell_type": "code",
   "execution_count": 22,
   "id": "7344f16b",
   "metadata": {},
   "outputs": [],
   "source": [
    "x = np.arange(-5, 5, 0.25)\n",
    "y = np.arange(-5, 5, 0.25)\n",
    "\n",
    "plt.style.use('seaborn')\n",
    "\n",
    "X, Y = np.meshgrid(x, y)\n",
    "R = np.sqrt(X**2 + Y**2)\n",
    "Z = np.sin(R)\n",
    "\n",
    "fig = plt.figure(figsize=(15, 7))\n",
    "ax1 = fig.add_subplot(121, projection='3d')\n",
    "ax2 = fig.add_subplot(122)\n",
    "\n",
    "ax1.plot_wireframe(X, Y, Z)\n",
    "\n",
    "levels = np.linspace(Z.min() + 0.0001, Z.max(), 30)\n",
    "contour = ax2.contour(X, Y, Z, cmap='hot', levels = levels)\n",
    "\n",
    "cbar = fig.colorbar(contour, pad=0, fraction=0.15)\n",
    "fig.tight_layout()"
   ]
  },
  {
   "cell_type": "code",
   "execution_count": 32,
   "id": "ca805383",
   "metadata": {},
   "outputs": [
    {
     "name": "stderr",
     "output_type": "stream",
     "text": [
      "C:\\Users\\Admin\\AppData\\Local\\Temp/ipykernel_18644/3644317932.py:11: UserWarning: The following kwargs were not used by contour: 'linstyles', 'linewidth'\n",
      "  contour_zero = ax.contour(X, Y, Z, cmap='Greys', levels=0, linstyles=':', linewidth=5)\n"
     ]
    }
   ],
   "source": [
    "from mpl_toolkits.mplot3d.axes3d import get_test_data\n",
    "\n",
    "plt.style.use('seaborn')\n",
    "fig = plt.figure(figsize=(13, 13))\n",
    "ax = fig.add_subplot()\n",
    "\n",
    "X, Y, Z = get_test_data(0.05)\n",
    "levels = np.linspace(Z.min() + 0.0001, Z.max(), 30)\n",
    "\n",
    "contour = ax.contour(X, Y, Z, cmap='rainbow', levels=levels)\n",
    "contour_zero = ax.contour(X, Y, Z, cmap='Greys', levels=0, linstyles=':', linewidth=5)\n",
    "\n",
    "label_levels = contour.levels[::2]\n",
    "\n",
    "ax.clabel(contour, label_levels, fontsize=20)\n",
    "ax.clabel(contour_zero, [0], fontsize=20)\n",
    "\n",
    "ax.set_xlabel('X coordinate', fontsize=30)\n",
    "ax.set_ylabel('Y coordinate', fontsize=30)\n",
    "\n",
    "ax.tick_params(labelsize=20)\n",
    "fig.tight_layout()"
   ]
  },
  {
   "cell_type": "code",
   "execution_count": 41,
   "id": "484200eb",
   "metadata": {},
   "outputs": [
    {
     "name": "stderr",
     "output_type": "stream",
     "text": [
      "C:\\Users\\Admin\\AppData\\Local\\Temp/ipykernel_18644/2677189610.py:20: UserWarning: The following kwargs were not used by contour: 'linwidths'\n",
      "  contourf_zero = ax.contour(X, Y, Z, cmap='Greys', levels=0, linwidths=5, linestyles=\":\")\n"
     ]
    }
   ],
   "source": [
    "from mpl_toolkits.mplot3d.axes3d import get_test_data\n",
    "\n",
    "plt.style.use('seaborn')\n",
    "\n",
    "# x = np.linspace(-10, 10, 200)\n",
    "# y = np.linspace(-10, 10, 200)\n",
    "\n",
    "# X, Y = np.meshgrid(x, y)\n",
    "# Z = X**2 + Y**2\n",
    "\n",
    "X, Y, Z = get_test_data(0.05)\n",
    "\n",
    "fig = plt.figure(figsize=(14, 14))\n",
    "ax = fig.add_subplot()\n",
    "fig.tight_layout()\n",
    "\n",
    "levels = np.linspace(Z.min(), Z.max(), 200)\n",
    "\n",
    "contourf = ax.contourf(X, Y, Z, cmap='bwr', levels=levels)\n",
    "contourf_zero = ax.contour(X, Y, Z, cmap='Greys', levels=0, linwidths=5, linestyles=\":\")\n",
    "\n",
    "ax.clabel(contourf_zero, [0], fontsize=20)\n",
    "cbar.ax.tick_params(labelsize=20)"
   ]
  },
  {
   "cell_type": "code",
   "execution_count": 48,
   "id": "de910b9e",
   "metadata": {},
   "outputs": [],
   "source": [
    "import numpy as np\n",
    "import matplotlib.pyplot as plt\n",
    "\n",
    "PI = np.pi\n",
    "t = np.linspace(0, 4*PI, 40)\n",
    "cos = np.cos(t)\n",
    "sin = np.sin(t)\n",
    "\n",
    "fig, ax = plt.subplots(figsize=(10, 5))\n",
    "ax.tick_params(labelsize=20)\n",
    "ax.stem(cos, use_line_collection=True, linefmt='C0', markerfmt='C0o', basefmt='k', bottom=0.5, label='cos')\n",
    "ax.stem(sin, use_line_collection=True, linefmt='C1', markerfmt='C1x', basefmt='k', bottom=-0.5, label='sin')\n",
    "\n",
    "ax.legend(loc='upper left', bbox_to_anchor=(1, 1), fontsize=30)\n",
    "fig.tight_layout()"
   ]
  }
 ],
 "metadata": {
  "kernelspec": {
   "display_name": "Python 3 (ipykernel)",
   "language": "python",
   "name": "python3"
  },
  "language_info": {
   "codemirror_mode": {
    "name": "ipython",
    "version": 3
   },
   "file_extension": ".py",
   "mimetype": "text/x-python",
   "name": "python",
   "nbconvert_exporter": "python",
   "pygments_lexer": "ipython3",
   "version": "3.9.7"
  }
 },
 "nbformat": 4,
 "nbformat_minor": 5
}
